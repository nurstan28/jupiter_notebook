{
 "cells": [
  {
   "cell_type": "markdown",
   "metadata": {},
   "source": [
    "### 1 Серия задач\n",
    "\n",
    "Имеется строка"
   ]
  },
  {
   "cell_type": "code",
   "execution_count": 2,
   "metadata": {},
   "outputs": [],
   "source": [
    "planets = \"Меркурий Венера Марс Jupiter Сатурн Уран Нептун\""
   ]
  },
  {
   "cell_type": "markdown",
   "metadata": {},
   "source": [
    "Сделайте из него список (.split()) и сохраните как planet_list."
   ]
  },
  {
   "cell_type": "code",
   "execution_count": null,
   "metadata": {},
   "outputs": [],
   "source": [
    "planet_list = planets.split()"
   ]
  },
  {
   "cell_type": "markdown",
   "metadata": {},
   "source": [
    "Добавьте в этот список последним \"Плутон\""
   ]
  },
  {
   "cell_type": "code",
   "execution_count": null,
   "metadata": {},
   "outputs": [],
   "source": [
    "planet_list.append('Плутон')"
   ]
  },
  {
   "cell_type": "markdown",
   "metadata": {},
   "source": [
    "Между \"Венера\" и \"Марс\" добавьте \"Земля\""
   ]
  },
  {
   "cell_type": "code",
   "execution_count": null,
   "metadata": {},
   "outputs": [],
   "source": [
    "planet_list= planet_list[:2]+['Земля']+planet_list[2:]"
   ]
  },
  {
   "cell_type": "markdown",
   "metadata": {},
   "source": [
    "\"Jupiter\" переименуйте на \"Юпитер\" одной строкой кода"
   ]
  },
  {
   "cell_type": "code",
   "execution_count": null,
   "metadata": {},
   "outputs": [],
   "source": [
    "planet_list[4] = 'Юпитер'"
   ]
  },
  {
   "cell_type": "markdown",
   "metadata": {},
   "source": [
    "Оказывается Плутон не планета. Удалите \"Плутон\" из нашего списка."
   ]
  },
  {
   "cell_type": "code",
   "execution_count": null,
   "metadata": {},
   "outputs": [],
   "source": [
    "planet_list.pop()"
   ]
  },
  {
   "cell_type": "markdown",
   "metadata": {},
   "source": [
    "Выведите количество планет в списке."
   ]
  },
  {
   "cell_type": "code",
   "execution_count": null,
   "metadata": {},
   "outputs": [],
   "source": [
    "print(len(planet_list))"
   ]
  },
  {
   "cell_type": "markdown",
   "metadata": {},
   "source": [
    "Покажите, используя срезы (slices) три планеты - Венера, Земля, Марс"
   ]
  },
  {
   "cell_type": "code",
   "execution_count": null,
   "metadata": {},
   "outputs": [],
   "source": [
    "print(planet_list[1:4])"
   ]
  },
  {
   "cell_type": "markdown",
   "metadata": {},
   "source": [
    "Используя срезу покажите две последние планеты"
   ]
  },
  {
   "cell_type": "code",
   "execution_count": null,
   "metadata": {},
   "outputs": [],
   "source": [
    "print(planet_list[-2:])"
   ]
  },
  {
   "cell_type": "markdown",
   "metadata": {},
   "source": [
    "### 2 Серия задач\n",
    "\n",
    "Имеется таблица:\n",
    "\n",
    "|  Student | Mark |\n",
    "| --- | --- |\n",
    "| Джон | 4 |\n",
    "| Сара | 5 |\n",
    "| Девид | 5 |\n",
    "| Марк | 3 |\n",
    "| Клара | 2 |\n",
    "| Сэм | 2 |\n",
    "| Санта | 4 |\n",
    "| Крис | 5 |\n",
    "| Джастин | 4 |\n",
    "\n",
    "Имеются два столбца. Создайте два списка (Student и Mark). В первом будут имена студентов по порядку, указанному в таблице. Во втором списке в таком же порядке их оценки."
   ]
  },
  {
   "cell_type": "code",
   "execution_count": null,
   "metadata": {},
   "outputs": [],
   "source": [
    "# Создайте здесь списки\n",
    "students = [\"Джон\",\"Сара\",\"Девид\",\"Марк\",\"Клара\",\"Сэм\",\"Санта\",\"Крис\",\"Джастин\"]\n",
    "marks = [4,5,5,3,2,2,4,5,4]"
   ]
  },
  {
   "cell_type": "markdown",
   "metadata": {},
   "source": [
    "Добавился студент по имени Рассел и с оценкой 5. Добавьте его имя и оценки в соответствующие списки."
   ]
  },
  {
   "cell_type": "code",
   "execution_count": null,
   "metadata": {},
   "outputs": [],
   "source": [
    "students.append('Рассел')\n",
    "marks.append(5)"
   ]
  },
  {
   "cell_type": "markdown",
   "metadata": {},
   "source": [
    "Выведите количество студентов в списке"
   ]
  },
  {
   "cell_type": "code",
   "execution_count": null,
   "metadata": {},
   "outputs": [],
   "source": [
    "print(len(students))"
   ]
  },
  {
   "cell_type": "markdown",
   "metadata": {},
   "source": [
    "Проверьте, имеется ли в списке студентов студент по имени Марк. Если ИСТИНА, выведите \"да\", иначе \"нет\"."
   ]
  },
  {
   "cell_type": "code",
   "execution_count": null,
   "metadata": {},
   "outputs": [],
   "source": [
    "if 'Марк' in students:print('да')\n",
    "else: print('нет')"
   ]
  },
  {
   "cell_type": "markdown",
   "metadata": {},
   "source": [
    "Пробежитесь в цикле и выведите из двух списков значения таким образом, чтобы на каждой строке печаталось по следущему образцу:\n",
    "\n",
    "\"У студента по имени Джастин 4 балла\""
   ]
  },
  {
   "cell_type": "code",
   "execution_count": null,
   "metadata": {},
   "outputs": [],
   "source": [
    "for i in range(len(students)):\n",
    "    print(f\"У студента по имени {students[i]} {marks[i]} балла.\")"
   ]
  },
  {
   "cell_type": "markdown",
   "metadata": {},
   "source": [
    "Создайте копии списков: Student_2, Mark_2."
   ]
  },
  {
   "cell_type": "code",
   "execution_count": null,
   "metadata": {},
   "outputs": [],
   "source": [
    "students_2 = students.copy()\n",
    "marks_2 = marks.copy()"
   ]
  },
  {
   "cell_type": "markdown",
   "metadata": {},
   "source": [
    "Из оригинальных списков (не копий) удалите студентов и их оценки, если у них 2 балла. (можно вручную по одному, либо в цикле проверяя условие: если оценка == 2."
   ]
  },
  {
   "cell_type": "code",
   "execution_count": null,
   "metadata": {},
   "outputs": [],
   "source": [
    "for s,m in zip(students,marks):\n",
    "    if m==2:\n",
    "        students.remove(s)\n",
    "        marks.remove(2)"
   ]
  },
  {
   "cell_type": "markdown",
   "metadata": {},
   "source": [
    "Выведите с 3 по 5 включительно имена студентов."
   ]
  },
  {
   "cell_type": "code",
   "execution_count": null,
   "metadata": {},
   "outputs": [],
   "source": [
    "print(students[2:5])"
   ]
  },
  {
   "cell_type": "markdown",
   "metadata": {},
   "source": [
    "Выведите имена студентов через раз. Джон, Девид, Клара... и тд"
   ]
  },
  {
   "cell_type": "code",
   "execution_count": null,
   "metadata": {},
   "outputs": [],
   "source": [
    "print(students[::2])"
   ]
  },
  {
   "cell_type": "markdown",
   "metadata": {},
   "source": [
    "У вас сохранились копии списков (Student_2, Mark_2). Там в копии списков если оценка равна 2 - поставьте оценку 3."
   ]
  },
  {
   "cell_type": "code",
   "execution_count": null,
   "metadata": {},
   "outputs": [],
   "source": [
    "for i in range(len(students_2)):\n",
    "    if marks_2[i]==2:\n",
    "        marks_2[i] = 3"
   ]
  },
  {
   "cell_type": "markdown",
   "metadata": {},
   "source": [
    "Посчитайте у скольких студентов оценка 5"
   ]
  },
  {
   "cell_type": "code",
   "execution_count": null,
   "metadata": {},
   "outputs": [],
   "source": [
    "print(marks.count(5))"
   ]
  },
  {
   "cell_type": "markdown",
   "metadata": {},
   "source": [
    "Выведите имена отличников (у кого 5). Через цикл и условие если оценка == 5."
   ]
  },
  {
   "cell_type": "code",
   "execution_count": null,
   "metadata": {},
   "outputs": [],
   "source": [
    "for s,m in zip(students,marks):\n",
    "    if m ==5:\n",
    "        print(s,end=' ')"
   ]
  }
 ],
 "metadata": {
  "kernelspec": {
   "display_name": "Python 3 (ipykernel)",
   "language": "python",
   "name": "python3"
  },
  "language_info": {
   "codemirror_mode": {
    "name": "ipython",
    "version": 3
   },
   "file_extension": ".py",
   "mimetype": "text/x-python",
   "name": "python",
   "nbconvert_exporter": "python",
   "pygments_lexer": "ipython3",
   "version": "3.9.7"
  }
 },
 "nbformat": 4,
 "nbformat_minor": 4
}
