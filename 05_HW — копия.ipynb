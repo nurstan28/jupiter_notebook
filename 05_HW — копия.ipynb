{
 "cells": [
  {
   "cell_type": "markdown",
   "metadata": {},
   "source": [
    "## 1. Написать цикл для вывода списка чисел от 100 до 50 включительно."
   ]
  },
  {
   "cell_type": "code",
   "execution_count": 18,
   "metadata": {},
   "outputs": [
    {
     "name": "stdout",
     "output_type": "stream",
     "text": [
      "50,51,52,53,54,55,56,57,58,59,60,61,62,63,64,65,66,67,68,69,70,71,72,73,74,75,76,77,78,79,80,81,82,83,84,85,86,87,88,89,90,91,92,93,94,95,96,97,98,99,100\n"
     ]
    }
   ],
   "source": [
    "lst = []\n",
    "for i in range(50,101):\n",
    "    lst.append(i)\n",
    "print(','.join(map(str,lst)))"
   ]
  },
  {
   "cell_type": "markdown",
   "metadata": {},
   "source": [
    "## 2. На вход принимается целое положительное число n. Нарисовать рисунок по образцу с указанным количеством строк n.\n",
    "\n",
    "\n",
    "n = 5\n",
    "```\n",
    "* \n",
    "* * \n",
    "* * * \n",
    "* * * * \n",
    "* * * * *\n",
    "```"
   ]
  },
  {
   "cell_type": "code",
   "execution_count": 24,
   "metadata": {},
   "outputs": [
    {
     "name": "stdout",
     "output_type": "stream",
     "text": [
      "5\n",
      "*\n",
      "**\n",
      "***\n",
      "****\n",
      "*****\n"
     ]
    }
   ],
   "source": [
    "n = int(input())\n",
    "i = 0\n",
    "while i != n:\n",
    "    i +=1\n",
    "    print('*'*i)"
   ]
  },
  {
   "cell_type": "markdown",
   "metadata": {},
   "source": [
    "## 3. Что делает нижеуказанный код? Перепишите её с использованием цикла `for`"
   ]
  },
  {
   "cell_type": "code",
   "execution_count": 44,
   "metadata": {},
   "outputs": [
    {
     "name": "stdout",
     "output_type": "stream",
     "text": [
      "10\n"
     ]
    }
   ],
   "source": [
    "n = 10\n",
    "s = 1\n",
    "while n > 0:\n",
    "    if n % 3 == 0:\n",
    "        s *= n\n",
    "    \n",
    "    n -= 1\n",
    "\n",
    "print(s)"
   ]
  },
  {
   "cell_type": "code",
   "execution_count": null,
   "metadata": {},
   "outputs": [],
   "source": [
    "n = 10\n",
    "s = 1\n",
    "for i in range(1,n+1):\n",
    "    if i%3 == 0:\n",
    "        s*=i\n",
    "print(s)"
   ]
  },
  {
   "cell_type": "markdown",
   "metadata": {},
   "source": [
    "## 4. Посчитать сумму числового ряда от 0 до 14 включительно.\n",
    "Например, 0+1+2+3+…+14"
   ]
  },
  {
   "cell_type": "code",
   "execution_count": null,
   "metadata": {},
   "outputs": [],
   "source": [
    "l = [i for i in range(1,15)]\n",
    "print(sum(l))"
   ]
  },
  {
   "cell_type": "markdown",
   "metadata": {},
   "source": [
    "## 5. Посчитать сумму `четных чисел` числового ряда от 0 до 14 включительно.\n",
    "Например, 2+4+…+14"
   ]
  },
  {
   "cell_type": "code",
   "execution_count": null,
   "metadata": {},
   "outputs": [],
   "source": [
    "l = [i for i in range(0,15,2)]\n",
    "print(sum(l))"
   ]
  },
  {
   "cell_type": "markdown",
   "metadata": {},
   "source": [
    "## 6. Факториал числа.\n",
    "\n",
    "\n",
    "По данному целому неотрицательному n вычислите значение n!.\n",
    "\n",
    "`Примеры`\n",
    "\n",
    "`входные данные`\n",
    "\n",
    "`3`\n",
    "\n",
    "`выходные данные`\n",
    "\n",
    "`6`\n",
    "\n",
    "Факториал числа 3: `1 * 2 * 3 = 6`"
   ]
  },
  {
   "cell_type": "code",
   "execution_count": null,
   "metadata": {},
   "outputs": [],
   "source": [
    "n = int(input('n: '))\n",
    "fact = 1\n",
    "for i in range(1,n+1):\n",
    "    fact*=i\n",
    "print(fact)"
   ]
  },
  {
   "cell_type": "markdown",
   "metadata": {},
   "source": [
    "## 7. Четные числа.\n",
    "\n",
    "\n",
    "По данным двум натуральным числам A и B (A≤B) выведите все чётные числа на отрезке от A до B. В этой задаче нельзя использовать инструкцию if.\n",
    "\n",
    "`Примеры`\n",
    "\n",
    "`входные данные`\n",
    "\n",
    "`1`\n",
    "\n",
    "`10`\n",
    "\n",
    "`выходные данные`\n",
    "\n",
    "`2 4 6 8 10`"
   ]
  },
  {
   "cell_type": "code",
   "execution_count": null,
   "metadata": {},
   "outputs": [],
   "source": [
    "a = int(input('a: '))\n",
    "b = int(input('b: '))\n",
    "numbers = [str(i) for i in range(a,b+1)]\n",
    "def even(n):\n",
    "    return int(n)%2==0\n",
    "l = filter(even,numbers)\n",
    "print(\" \".join(list(l)))"
   ]
  },
  {
   "cell_type": "markdown",
   "metadata": {},
   "source": [
    "## 8. Сумма цифр числа\n",
    "\n",
    "\n",
    "Прочитайте строку состоящую из цифр (как строку, а не число). Посчитайте сумму всех чисел в списке.\n",
    "\n",
    "`Примеры`\n",
    "\n",
    "`входные данные`\n",
    "\n",
    "`1234`\n",
    "\n",
    "`выходные данные`\n",
    "\n",
    "`10`\n",
    "\n",
    "(1 + 2 + 3 + 4 = 10)\n",
    "\n",
    "Подсказка: Пробежитесь по **строке** в цикле for и суммируйте.\n",
    "\n",
    "```\n",
    "for i in \"1234\":\n",
    "    print(i)\n",
    "```\n",
    "\n",
    "этот код распечатает:\n",
    "\n",
    "1\n",
    "\n",
    "2\n",
    "\n",
    "3\n",
    "\n",
    "4"
   ]
  },
  {
   "cell_type": "code",
   "execution_count": null,
   "metadata": {},
   "outputs": [],
   "source": [
    "s = input('s: ')\n",
    "summa = 0\n",
    "for i in s:\n",
    "    summa+=int(i)\n",
    "print(summa)"
   ]
  },
  {
   "cell_type": "markdown",
   "metadata": {},
   "source": [
    "## Задача для интереса. Флаги.\n",
    "\n",
    "\n",
    "Напишите программу, которая по данному числу n от 1 до 9 выводит на экран n флагов. Изображение одного флага имеет размер 4×4 символов, между двумя соседними флагами также имеется пустой (из пробелов) столбец. Разрешается вывести пустой столбец после последнего флага. Внутри каждого флага должен быть записан его номер — число от 1 до n.\n",
    "\n",
    "`Примеры`\n",
    "\n",
    "`входные данные`\n",
    "\n",
    "`3`\n",
    "\n",
    "`выходные данные`\n",
    "\n",
    "`+___ +___ +___ \n",
    "|1 / |2 / |3 / \n",
    "|__\\ |__\\ |__\\ \n",
    "|    |    |    `\n",
    "\n",
    "\n",
    "`входные данные`\n",
    "\n",
    "`3`\n",
    "\n",
    "`выходные данные`\n",
    "\n",
    "`+___ \n",
    "|1 / \n",
    "|__\\ \n",
    "| `"
   ]
  },
  {
   "cell_type": "code",
   "execution_count": null,
   "metadata": {},
   "outputs": [],
   "source": []
  }
 ],
 "metadata": {
  "kernelspec": {
   "display_name": "Python 3 (ipykernel)",
   "language": "python",
   "name": "python3"
  },
  "language_info": {
   "codemirror_mode": {
    "name": "ipython",
    "version": 3
   },
   "file_extension": ".py",
   "mimetype": "text/x-python",
   "name": "python",
   "nbconvert_exporter": "python",
   "pygments_lexer": "ipython3",
   "version": "3.9.7"
  }
 },
 "nbformat": 4,
 "nbformat_minor": 2
}
