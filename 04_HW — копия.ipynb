{
 "cells": [
  {
   "cell_type": "markdown",
   "metadata": {},
   "source": [
    "### 1. На вход подается число от 0 до 1000.\n",
    "\n",
    "Если число от 0 до 99, программа должна вернуть \"Ваше число меньше 100\".\n",
    "\n",
    "Если число от 100 до 499, программа должна вернуть \"Ваше число меньше 500, но больше 100\".\n",
    "\n",
    "Если число от 500 до 1000, программа должна вернуть \"Ваше число меньше 1000, но больше 500\"."
   ]
  },
  {
   "cell_type": "code",
   "execution_count": 3,
   "metadata": {},
   "outputs": [
    {
     "name": "stdout",
     "output_type": "stream",
     "text": [
      "234567\n",
      "234567\n"
     ]
    }
   ],
   "source": [
    "x = int(input())\n",
    "if 0 < x < 99:\n",
    "    print(\"Ваше число меньше 100\")\n",
    "elif 100 < x < 499:\n",
    "    print(\"Ваше число меньше 500, но больше 100\")\n",
    "elif 500 < x < 1000:\n",
    "    print(\"Ваше число меньше 1000, но больше 500\")\n",
    "else:\n",
    "    print(x)"
   ]
  },
  {
   "cell_type": "markdown",
   "metadata": {},
   "source": [
    "### 2. На вход подаются длина и ширина прямоугольника. Если они равны, выведите, что это квадрат. Иначе \"это прямоугольник\".\n",
    "\n",
    "**Пример**\n",
    "\n",
    "`input`\n",
    "\n",
    "`5`\n",
    "\n",
    "`3`\n",
    "\n",
    "`output`\n",
    "\n",
    "`\"Это прямоугольник\"`"
   ]
  },
  {
   "cell_type": "code",
   "execution_count": 5,
   "metadata": {},
   "outputs": [
    {
     "name": "stdout",
     "output_type": "stream",
     "text": [
      "4\n",
      "4\n",
      "Это квадрат\n"
     ]
    }
   ],
   "source": [
    "x1 = int(input())\n",
    "x2 = int(input())\n",
    "if x1 == x2:\n",
    "    print('Это квадрат')\n",
    "else:\n",
    "    print('Это прямоугольник')"
   ]
  },
  {
   "cell_type": "markdown",
   "metadata": {},
   "source": [
    "### 3. Программа для выставления оценок. На вход подается количество баллов от 0 до 100. Выставите оценку по указанной ниже системе.\n",
    "\n",
    "Имеется следующая система выставления оценок:\n",
    "\n",
    "1. ниже 25 - F\n",
    "2. от 25 до 45 - E\n",
    "3. от 45 до 50 - D\n",
    "4. от 50 до 60 - C\n",
    "5. от 60 до 80 - B\n",
    "6. Выше 80 - A"
   ]
  },
  {
   "cell_type": "code",
   "execution_count": 11,
   "metadata": {},
   "outputs": [
    {
     "name": "stdout",
     "output_type": "stream",
     "text": [
      "67\n",
      "B\n"
     ]
    }
   ],
   "source": [
    "x = int(input())\n",
    "if x < 25:\n",
    "    print('F')\n",
    "elif 25 <= x < 45:\n",
    "    print('E')\n",
    "elif 45 <= x < 50:\n",
    "    print('D')\n",
    "elif 50 <= x < 60:\n",
    "    print('C')\n",
    "elif 60 <= x < 80:\n",
    "    print('B')\n",
    "elif x > 80:\n",
    "    print('A')\n",
    "else:\n",
    "    print(x)"
   ]
  },
  {
   "cell_type": "markdown",
   "metadata": {},
   "source": [
    "### 4. Собака или кошка?\n",
    "\n",
    "На вход подается слово \"dog\" или \"cat\".\n",
    "\n",
    "Если \"dog\", выведите \"bark\"\n",
    "\n",
    "Если \"cat\", выведите \"meow\""
   ]
  },
  {
   "cell_type": "code",
   "execution_count": null,
   "metadata": {},
   "outputs": [],
   "source": [
    "x = input()\n",
    "if x == 'dog':\n",
    "    print('bark')\n",
    "elif x == 'cat':\n",
    "    print('meow')\n",
    "else:\n",
    "    print(x)"
   ]
  },
  {
   "cell_type": "markdown",
   "metadata": {},
   "source": [
    "### 5. На вход подается положительное число, определите четное оно или нечетное.\n",
    "\n",
    "**Пример**\n",
    "\n",
    "`input`\n",
    "\n",
    "`5`\n",
    "\n",
    "`output`\n",
    "\n",
    "`\"Это число нечетное\"`"
   ]
  },
  {
   "cell_type": "code",
   "execution_count": 19,
   "metadata": {},
   "outputs": [
    {
     "name": "stdout",
     "output_type": "stream",
     "text": [
      "6\n",
      "Это число четное\n"
     ]
    }
   ],
   "source": [
    "x = int(input())\n",
    "if x % 2 == 0:\n",
    "    print(\"Это число четное\")\n",
    "else:\n",
    "    print(\"Это число нечетное\")"
   ]
  },
  {
   "cell_type": "code",
   "execution_count": 29,
   "metadata": {},
   "outputs": [
    {
     "name": "stdout",
     "output_type": "stream",
     "text": [
      "1\n",
      "2\n",
      "3\n",
      "4\n",
      "5\n",
      "6\n",
      "7\n",
      "8\n",
      "9\n",
      "0\n",
      "5\n"
     ]
    }
   ],
   "source": [
    "#6. Программа получает на вход последовательность целых неотрицательных чисел по одному.\n",
    "#Последовательность завершается числом 0, при считывании которого программа должна закончить свою работу\n",
    "#и вывести количество **нечетных** членов последовательности (не считая завершающего числа 0\n",
    "\n",
    "x=int(input())\n",
    "i=0\n",
    "while x!=0:\n",
    "    if x % 2:\n",
    "        i+=1\n",
    "    x=int(input())\n",
    "print(i)"
   ]
  },
  {
   "cell_type": "markdown",
   "metadata": {},
   "source": [
    "### 7.  На вход подается число, поменяйте знак числа и верните.\n",
    "Если оно положительно верните со знаком минус, если отрицательно без знака минус.\n",
    "\n",
    "**Пример**\n",
    "\n",
    "`input`\n",
    "\n",
    "`5`\n",
    "\n",
    "`output`\n",
    "\n",
    "`-5`\n",
    "\n",
    "`input`\n",
    "\n",
    "`-78`\n",
    "\n",
    "`output`\n",
    "\n",
    "`78`"
   ]
  },
  {
   "cell_type": "code",
   "execution_count": 75,
   "metadata": {
    "scrolled": true
   },
   "outputs": [
    {
     "name": "stdout",
     "output_type": "stream",
     "text": [
      "6\n",
      "-6\n"
     ]
    }
   ],
   "source": [
    "x = int(input())\n",
    "\n",
    "if x > 0:\n",
    "    print(-x)\n",
    "elif x < 0:\n",
    "    x2 = -x\n",
    "    print(x2)"
   ]
  },
  {
   "cell_type": "code",
   "execution_count": null,
   "metadata": {},
   "outputs": [],
   "source": [
    "### 8.  Программа получает на вход последовательность целых неотрицательных чисел по одному. Последовательность завершается числом 0, при считывании которого программа должна закончить свою работу и вывести максимальное и минимальное число в последовательности (не считая завершающего числа 0).\n",
    "\n",
    "**Пример**\n",
    "\n",
    "`input`\n",
    "\n",
    "`5`\n",
    "\n",
    "`2`\n",
    "\n",
    "`1`\n",
    "\n",
    "`3`\n",
    "\n",
    "`0`\n",
    "\n",
    "`output`\n",
    "\n",
    "`максимум: 5`\n",
    "\n",
    "`минимум: 1`"
   ]
  },
  {
   "cell_type": "code",
   "execution_count": 95,
   "metadata": {},
   "outputs": [
    {
     "name": "stdout",
     "output_type": "stream",
     "text": [
      "1\n",
      "2\n",
      "3\n",
      "4\n",
      "5\n",
      "67\n",
      "8\n",
      "9\n",
      "0\n",
      "max 67\n",
      "min 0\n"
     ]
    }
   ],
   "source": [
    "x=int(input())\n",
    "lst = []\n",
    "while x!=0:\n",
    "    x=int(input())\n",
    "    lst.append(x)\n",
    "print('max',max(lst))\n",
    "print('min',min(lst))"
   ]
  },
  {
   "cell_type": "code",
   "execution_count": null,
   "metadata": {},
   "outputs": [],
   "source": [
    "### 9. На вход подается 1 или 0. Выведите `True` если 1, иначе `False`.\n",
    "\n",
    "**Пример**\n",
    "\n",
    "`input`\n",
    "\n",
    "`0`\n",
    "\n",
    "`output`\n",
    "\n",
    "`False`"
   ]
  },
  {
   "cell_type": "code",
   "execution_count": 99,
   "metadata": {},
   "outputs": [
    {
     "name": "stdout",
     "output_type": "stream",
     "text": [
      "5\n",
      "False\n"
     ]
    }
   ],
   "source": [
    "x=int(input())\n",
    "if x == 1:\n",
    "    print(True)\n",
    "else:\n",
    "    print(False)"
   ]
  },
  {
   "cell_type": "markdown",
   "metadata": {},
   "source": [
    "### 10. На вход подается целое положительное число. Напечатайте столько же раз слово \"hi\"\n",
    "\n",
    "**Пример**\n",
    "\n",
    "`input`\n",
    "\n",
    "`5`\n",
    "\n",
    "`output`\n",
    "\n",
    "`hi hi hi hi hi`"
   ]
  },
  {
   "cell_type": "code",
   "execution_count": 104,
   "metadata": {},
   "outputs": [
    {
     "name": "stdout",
     "output_type": "stream",
     "text": [
      "5\n",
      "hi hi hi hi hi \n"
     ]
    }
   ],
   "source": [
    "x=int(input())\n",
    "print('hi'' '*x)"
   ]
  },
  {
   "cell_type": "markdown",
   "metadata": {},
   "source": [
    "###  11. Программа получает на вход последовательность целых неотрицательных чисел по одному. Последовательность завершается числом 0, при считывании которого программа должна закончить свою работу и вывести числа в ряд без пробела (не считая завершающего числа 0).\n",
    "\n",
    "**Пример**\n",
    "\n",
    "`input`\n",
    "\n",
    "`5`\n",
    "\n",
    "`2`\n",
    "\n",
    "`1`\n",
    "\n",
    "`3`\n",
    "\n",
    "`0`\n",
    "\n",
    "`output`\n",
    "\n",
    "`5213`\n"
   ]
  },
  {
   "cell_type": "code",
   "execution_count": 170,
   "metadata": {},
   "outputs": [
    {
     "name": "stdout",
     "output_type": "stream",
     "text": [
      "45\n",
      "56\n",
      "67\n",
      "0\n",
      "56 67 0\n"
     ]
    }
   ],
   "source": [
    "x=int(input())\n",
    "lst = []\n",
    "while x!=0:\n",
    "    x=int(input())\n",
    "    lst.append(x)\n",
    "print(\" \".join(map(str, lst)))"
   ]
  },
  {
   "cell_type": "markdown",
   "metadata": {},
   "source": [
    "##### 12. Банковские вклады\n",
    "\n",
    "Вклад в банке составляет `x` рублей. Ежегодно он увеличивается на 10 процентов. Определите, через сколько лет вклад составит не менее `y` рублей.\n",
    "\n",
    "На вход подается:\n",
    "\n",
    "`x` - сколько мы положили в начале\n",
    "\n",
    "`y` - минимум сколько мы хотим получить."
   ]
  },
  {
   "cell_type": "code",
   "execution_count": 148,
   "metadata": {},
   "outputs": [
    {
     "name": "stdout",
     "output_type": "stream",
     "text": [
      "100\n",
      "10\n",
      "1000\n",
      "25\n"
     ]
    }
   ],
   "source": [
    "x = int(input())\n",
    "p = int(input())\n",
    "y = int(input())\n",
    "i = 0\n",
    "while x < y:\n",
    "    x *= 1 + p / 100\n",
    "    x = int(100 * x) / 100\n",
    "    i += 1\n",
    "print(i)"
   ]
  },
  {
   "cell_type": "markdown",
   "metadata": {},
   "source": [
    "### 13. Среднее значение последовательности.\n",
    "\n",
    "Определите среднее значение всех элементов последовательности, завершающейся числом 0.\n",
    "\n",
    "`Входные данные`\n",
    "\n",
    "Вводится последовательность целых чисел, оканчивающаяся числом 0 (само число 0 в последовательность не входит, а служит как признак ее окончания.\n",
    "\n",
    "`Выходные данные`\n",
    "\n",
    "Выведите ответ на задачу.\n",
    "\n",
    "`Примеры`\n",
    "\n",
    "`входные данные`\n",
    "\n",
    "`1`\n",
    "\n",
    "`7`\n",
    "\n",
    "`9`\n",
    "\n",
    "`0`\n",
    "\n",
    "`выходные данные`\n",
    "\n",
    "`5.66666666667`\n",
    "\n",
    "\n",
    "`hint: (1+7+9) / 3 = 5.6667`"
   ]
  },
  {
   "cell_type": "code",
   "execution_count": 163,
   "metadata": {},
   "outputs": [
    {
     "name": "stdout",
     "output_type": "stream",
     "text": [
      "1\n",
      "5\n",
      "7\n",
      "2\n",
      "6\n",
      "7\n",
      "0\n",
      "4.666666666666667\n"
     ]
    }
   ],
   "source": [
    "x=int(input())\n",
    "lst = []\n",
    "lst.append(x)\n",
    "\n",
    "while x!=0:\n",
    "    x=int(input())\n",
    "    lst.append(x)\n",
    "    \n",
    "lst.pop()\n",
    "res = sum(lst) / len(lst)\n",
    "print(res)"
   ]
  },
  {
   "cell_type": "markdown",
   "metadata": {},
   "source": [
    "### 14. Список квадратов\n",
    "\n",
    "По данному целому числу N распечатайте все квадраты натуральных чисел, не превосходящие N, в порядке возрастания.\n",
    "\n",
    "`Входные данные`\n",
    "\n",
    "`50`\n",
    "\n",
    "`Выходные данные`\n",
    "\n",
    "`1 4 9 16 25 36 49`"
   ]
  },
  {
   "cell_type": "code",
   "execution_count": 177,
   "metadata": {},
   "outputs": [
    {
     "name": "stdout",
     "output_type": "stream",
     "text": [
      "50\n",
      "1 4 9 16 25 36 49\n"
     ]
    }
   ],
   "source": [
    "x = int(input())\n",
    "i = 1\n",
    "lst = []\n",
    "\n",
    "while i **2 <= x:\n",
    "    l = i**2\n",
    "    i +=1\n",
    "    lst.append(l)\n",
    "print(\" \".join(map(str,lst)))"
   ]
  },
  {
   "cell_type": "markdown",
   "metadata": {},
   "source": [
    "### 15. Игра, угадай число (улучшение).\n",
    "\n",
    "Напишите ту же игру угадай число, но теперь угадываемое число будет случайным от 0 до 100 (используйте код ниже для генерации случайного числа)."
   ]
  },
  {
   "cell_type": "code",
   "execution_count": 180,
   "metadata": {},
   "outputs": [
    {
     "name": "stdout",
     "output_type": "stream",
     "text": [
      "24\n",
      "53\n",
      "4\n",
      "56\n",
      "12\n",
      "2\n",
      "3\n",
      "4\n",
      "5\n",
      "6\n",
      "7\n",
      "8\n",
      "9\n",
      "10\n",
      "11\n",
      "12\n",
      "13\n",
      "14\n",
      "15\n",
      "16\n",
      "17\n",
      "18\n",
      "19\n",
      "20\n",
      "21\n",
      "2\n",
      "22\n",
      "23\n",
      "24\n",
      "25\n",
      "26\n",
      "27\n",
      "28\n",
      "29\n",
      "30\n",
      "31\n",
      "32\n",
      "33\n",
      "34\n",
      "35\n",
      "36\n",
      "37\n",
      "38\n",
      "39\n",
      "40\n",
      "41\n",
      "42\n",
      "43\n",
      "44\n",
      "45\n",
      "46\n",
      "47\n",
      "48\n",
      "49\n",
      "50\n",
      "51\n",
      "52\n",
      "53\n",
      "54\n",
      "55\n",
      "56\n",
      "57\n",
      "58\n",
      "59\n",
      "59\n"
     ]
    }
   ],
   "source": [
    "import random\n",
    "\n",
    "myNumber = random.randint(0, 100) # это генерирует случайное число для игры\n",
    "x = int(input())\n",
    "while x != myNumber:\n",
    "    x = int(input())\n",
    "else:\n",
    "    print('это число:', myNumber)"
   ]
  }
 ],
 "metadata": {
  "kernelspec": {
   "display_name": "Python 3 (ipykernel)",
   "language": "python",
   "name": "python3"
  },
  "language_info": {
   "codemirror_mode": {
    "name": "ipython",
    "version": 3
   },
   "file_extension": ".py",
   "mimetype": "text/x-python",
   "name": "python",
   "nbconvert_exporter": "python",
   "pygments_lexer": "ipython3",
   "version": "3.9.7"
  }
 },
 "nbformat": 4,
 "nbformat_minor": 4
}
